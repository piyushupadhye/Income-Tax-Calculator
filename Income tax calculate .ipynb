{
 "cells": [
  {
   "cell_type": "code",
   "execution_count": 9,
   "id": "0ae91cc4",
   "metadata": {},
   "outputs": [
    {
     "name": "stdout",
     "output_type": "stream",
     "text": [
      "Enter the annual income:1200000\n",
      "Income Tax Payable: Rs. 122500.0\n"
     ]
    }
   ],
   "source": [
    "AI=int(input(\"Enter the annual income:\"))               #AI is Annual Income\n",
    "if AI<=250000:\n",
    "    IT=AI*0              #IT is Income Tax\n",
    "elif AI<=500000:\n",
    "    IT=(AI-250000)*.05\n",
    "elif AI<=1000000:\n",
    "    IT=(AI-500000)*0.1+12500\n",
    "elif AI>1000000:\n",
    "    IT=(AI-1000000)*.3+12500+50000\n",
    "print('Income Tax Payable:', 'Rs.', IT)"
   ]
  }
 ],
 "metadata": {
  "celltoolbar": "Raw Cell Format",
  "kernelspec": {
   "display_name": "Python 3 (ipykernel)",
   "language": "python",
   "name": "python3"
  },
  "language_info": {
   "codemirror_mode": {
    "name": "ipython",
    "version": 3
   },
   "file_extension": ".py",
   "mimetype": "text/x-python",
   "name": "python",
   "nbconvert_exporter": "python",
   "pygments_lexer": "ipython3",
   "version": "3.9.7"
  }
 },
 "nbformat": 4,
 "nbformat_minor": 5
}
